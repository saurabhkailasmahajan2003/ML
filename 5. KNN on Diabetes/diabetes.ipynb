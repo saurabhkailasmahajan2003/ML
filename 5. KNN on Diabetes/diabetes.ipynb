{
 "cells": [
  {
   "cell_type": "code",
   "execution_count": null,
   "metadata": {
    "vscode": {
     "languageId": "plaintext"
    }
   },
   "outputs": [],
   "source": [
    "import numpy as np\n",
    "import pandas as pd\n",
    "\n",
    "data = pd.read_csv('./diabetes.csv')\n",
    "data.head()\n",
    "\n",
    "#Check for null or missing values\n",
    "data.isnull().sum()\n",
    "\n",
    "#Replace zero values with mean values\n",
    "for column in data.columns[1:-3]:\n",
    "    data[column].replace(0, np.NaN, inplace = True)\n",
    "    data[column].fillna(round(data[column].mean(skipna=True)), inplace = True)\n",
    "data.head(10)\n",
    "\n",
    "X = data.iloc[:, :8] #Features\n",
    "Y = data.iloc[:, 8:] #Predictor\n",
    "\n",
    "#Perform Spliting\n",
    "from sklearn.model_selection import train_test_split\n",
    "X_train, X_test, Y_train, Y_test = train_test_split(X, Y, test_size=0.2, random_state=0)\n",
    "\n",
    "#KNN\n",
    "from sklearn.neighbors import KNeighborsClassifier\n",
    "knn = KNeighborsClassifier()\n",
    "knn_fit = knn.fit(X_train, Y_train.values.ravel())\n",
    "knn_pred = knn_fit.predict(X_test)\n",
    "\n",
    "\n",
    "from sklearn.metrics import confusion_matrix, precision_score, recall_score, f1_score, accuracy_score\n",
    "print(\"Confusion Matrix\")\n",
    "print(confusion_matrix(Y_test, knn_pred))\n",
    "print(\"Accuracy Score:\", accuracy_score(Y_test, knn_pred))\n",
    "print(\"Reacal Score:\", recall_score(Y_test, knn_pred))\n",
    "print(\"F1 Score:\", f1_score(Y_test, knn_pred))\n",
    "print(\"Precision Score:\",precision_score(Y_test, knn_pred))"
   ]
  }
 ],
 "metadata": {
  "language_info": {
   "name": "python"
  }
 },
 "nbformat": 4,
 "nbformat_minor": 2
}
